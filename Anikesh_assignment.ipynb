{
 "cells": [
  {
   "cell_type": "markdown",
   "id": "ba0194d2",
   "metadata": {},
   "source": [
    "## Challenge 1: Square Numbers and Return Their Sum\n",
    "\n",
    "\n"
   ]
  },
  {
   "cell_type": "code",
   "execution_count": 1,
   "id": "ae83a531",
   "metadata": {},
   "outputs": [
    {
     "data": {
      "text/plain": [
       "35"
      ]
     },
     "execution_count": 1,
     "metadata": {},
     "output_type": "execute_result"
    }
   ],
   "source": [
    "class Point:\n",
    "    def __init__(self,x,y,z):\n",
    "        self.x=x\n",
    "        self.y=y\n",
    "        self.z=z\n",
    "        \n",
    "    def sqSum(self):\n",
    "        return self.x**2+self.y**2+self.z**2\n",
    "\n",
    "sqsum_obj=Point(1,3,5)\n",
    "sqsum_obj.sqSum()\n",
    "    "
   ]
  },
  {
   "cell_type": "markdown",
   "id": "fcaf7d2b",
   "metadata": {},
   "source": [
    "## Challenge 2: Calculate the Student's Performance"
   ]
  },
  {
   "cell_type": "code",
   "execution_count": 2,
   "id": "d44d6955",
   "metadata": {},
   "outputs": [
    {
     "name": "stdout",
     "output_type": "stream",
     "text": [
      "Enter Name: Tejashri\n",
      "Enter phy marks: 80\n",
      "Enter chem marks: 90\n",
      "Enter bio marks: 40\n",
      "Enter total obtained marks of all subjects: 210\n",
      "210\n",
      "70.0\n"
     ]
    }
   ],
   "source": [
    "class Student:\n",
    "    \n",
    "    def  __init__(self,name,phy,chem,bio,Marks_Obtained):\n",
    "        self.name=name\n",
    "        self.phy=phy\n",
    "        self.chem=chem\n",
    "        self.bio=bio\n",
    "        self.Marks_Obtained=Marks_Obtained\n",
    "        \n",
    "    def totalObtained(self):\n",
    "        self.Marks_Obtained=(self.phy+self.chem+self.bio)\n",
    "        print(self.Marks_Obtained)\n",
    "    \n",
    "    def percentage(self):\n",
    "        self.Total_marks=300\n",
    "        Percentage = ( self.Marks_Obtained/self.Total_marks )*100\n",
    "        return Percentage   \n",
    "name=(input(\"Enter Name: \"))\n",
    "phy=int(input(\"Enter phy marks: \"))\n",
    "chem=int(input(\"Enter chem marks: \"))\n",
    "bio=int(input(\"Enter bio marks: \"))\n",
    "Marks_Obtained=int(input(\"Enter total obtained marks of all subjects: \"))\n",
    "    \n",
    "obj_marks=Student(name,phy,chem,bio,Marks_Obtained)  \n",
    "(obj_marks.totalObtained())\n",
    "print(obj_marks.percentage())\n"
   ]
  },
  {
   "cell_type": "markdown",
   "id": "49fb878c",
   "metadata": {},
   "source": [
    "## Challenge 3: Implement a Calculator Class\n",
    "\n"
   ]
  },
  {
   "cell_type": "code",
   "execution_count": 3,
   "id": "bfc61f67",
   "metadata": {},
   "outputs": [
    {
     "name": "stdout",
     "output_type": "stream",
     "text": [
      "Enter first no: 94\n",
      "Enter second no: 10\n",
      "104\n",
      "84\n",
      "940\n",
      "9.4\n"
     ]
    }
   ],
   "source": [
    "class Calculator:\n",
    "    \n",
    "    def __init__(self,num1,num2):\n",
    "        self.num1=num1\n",
    "        self.num2=num2\n",
    "        \n",
    "    def add(self):\n",
    "        return self.num1+self.num2\n",
    "        \n",
    "    def subtract(self):\n",
    "        return self.num1-self.num2\n",
    "        \n",
    "        \n",
    "    def multiply(self):\n",
    "        return self.num1*self.num2\n",
    "        \n",
    "        \n",
    "    def divide(self):\n",
    "        return self.num1/self.num2\n",
    "        \n",
    "num1=int(input(\"Enter first no: \"))        \n",
    "num2=int(input(\"Enter second no: \"))     \n",
    "obj=Calculator(num1,num2)\n",
    "print(obj.add())\n",
    "print(obj.subtract())\n",
    "print(obj.multiply())\n",
    "print(obj.divide()) # print is must as we have to print all the values for all methods \n",
    "\n"
   ]
  },
  {
   "cell_type": "code",
   "execution_count": null,
   "id": "406dafcf",
   "metadata": {},
   "outputs": [],
   "source": []
  }
 ],
 "metadata": {
  "kernelspec": {
   "display_name": "Python 3 (ipykernel)",
   "language": "python",
   "name": "python3"
  },
  "language_info": {
   "codemirror_mode": {
    "name": "ipython",
    "version": 3
   },
   "file_extension": ".py",
   "mimetype": "text/x-python",
   "name": "python",
   "nbconvert_exporter": "python",
   "pygments_lexer": "ipython3",
   "version": "3.9.7"
  }
 },
 "nbformat": 4,
 "nbformat_minor": 5
}
